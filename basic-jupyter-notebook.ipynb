{
 "cells": [
  {
   "cell_type": "markdown",
   "id": "ba5162d0",
   "metadata": {},
   "source": [
    "Hinweis: Zellen können mit *shift-Enter* oder *ctrl-Enter* ausgeführt werden"
   ]
  },
  {
   "cell_type": "code",
   "execution_count": 3,
   "id": "b83f538c",
   "metadata": {},
   "outputs": [],
   "source": [
    "# Module importieren\n",
    "import numpy as np # für mathematische Dinge\n",
    "from matplotlib import pyplot as plt # zum Zeichnen von Diagrammen"
   ]
  },
  {
   "cell_type": "code",
   "execution_count": 4,
   "id": "cbb53639",
   "metadata": {},
   "outputs": [],
   "source": [
    "# macht denen Graphen interaktiv (Zoom, Speichern)\n",
    "%matplotlib notebook"
   ]
  }
 ],
 "metadata": {
  "kernelspec": {
   "display_name": "Python 3 (ipykernel)",
   "language": "python",
   "name": "python3"
  },
  "language_info": {
   "codemirror_mode": {
    "name": "ipython",
    "version": 3
   },
   "file_extension": ".py",
   "mimetype": "text/x-python",
   "name": "python",
   "nbconvert_exporter": "python",
   "pygments_lexer": "ipython3",
   "version": "3.10.12"
  }
 },
 "nbformat": 4,
 "nbformat_minor": 5
}
